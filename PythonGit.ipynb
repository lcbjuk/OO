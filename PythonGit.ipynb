{
  "nbformat": 4,
  "nbformat_minor": 0,
  "metadata": {
    "colab": {
      "name": "PythonGit.ipynb",
      "provenance": [],
      "authorship_tag": "ABX9TyPA2WjxuKjB6szGdz8Pc1ma",
      "include_colab_link": true
    },
    "kernelspec": {
      "name": "python3",
      "display_name": "Python 3"
    }
  },
  "cells": [
    {
      "cell_type": "markdown",
      "metadata": {
        "id": "view-in-github",
        "colab_type": "text"
      },
      "source": [
        "<a href=\"https://colab.research.google.com/github/lcbjuk/OO/blob/master/PythonGit.ipynb\" target=\"_parent\"><img src=\"https://colab.research.google.com/assets/colab-badge.svg\" alt=\"Open In Colab\"/></a>"
      ]
    },
    {
      "cell_type": "code",
      "metadata": {
        "id": "WfAoDRuTvBE4",
        "colab_type": "code",
        "colab": {
          "base_uri": "https://localhost:8080/",
          "height": 323
        },
        "outputId": "6267e565-96a6-416a-9022-888f84556405"
      },
      "source": [
        "!curl https://raw.githubusercontent.com/lcbjuk/OO/master/ex0.py > ex0.py\n",
        "!curl https://raw.githubusercontent.com/lcbjuk/OO/master/ex1.py > ex1.py\n",
        "!curl https://raw.githubusercontent.com/lcbjuk/OO/master/ex2.py > ex2.py\n",
        "!curl https://raw.githubusercontent.com/lcbjuk/OO/master/ex3.py > ex3.py\n",
        "!curl https://raw.githubusercontent.com/lcbjuk/OO/master/ex4.py > ex4.py\n",
        "!curl https://raw.githubusercontent.com/lcbjuk/OO/master/ex5.py > ex5.py\n",
        "\n",
        "import sys\n",
        "sys.path.append('/content')"
      ],
      "execution_count": 6,
      "outputs": [
        {
          "output_type": "stream",
          "text": [
            "  % Total    % Received % Xferd  Average Speed   Time    Time     Time  Current\n",
            "                                 Dload  Upload   Total   Spent    Left  Speed\n",
            "100   786  100   786    0     0   8733      0 --:--:-- --:--:-- --:--:--  8733\n",
            "  % Total    % Received % Xferd  Average Speed   Time    Time     Time  Current\n",
            "                                 Dload  Upload   Total   Spent    Left  Speed\n",
            "100  2233  100  2233    0     0  18608      0 --:--:-- --:--:-- --:--:-- 18608\n",
            "  % Total    % Received % Xferd  Average Speed   Time    Time     Time  Current\n",
            "                                 Dload  Upload   Total   Spent    Left  Speed\n",
            "100  3737  100  3737    0     0  42954      0 --:--:-- --:--:-- --:--:-- 42954\n",
            "  % Total    % Received % Xferd  Average Speed   Time    Time     Time  Current\n",
            "                                 Dload  Upload   Total   Spent    Left  Speed\n",
            "100    40  100    40    0     0    459      0 --:--:-- --:--:-- --:--:--   459\n",
            "  % Total    % Received % Xferd  Average Speed   Time    Time     Time  Current\n",
            "                                 Dload  Upload   Total   Spent    Left  Speed\n",
            "100  1699  100  1699    0     0  26968      0 --:--:-- --:--:-- --:--:-- 26968\n",
            "  % Total    % Received % Xferd  Average Speed   Time    Time     Time  Current\n",
            "                                 Dload  Upload   Total   Spent    Left  Speed\n",
            "100  1629  100  1629    0     0  26274      0 --:--:-- --:--:-- --:--:-- 26274\n"
          ],
          "name": "stdout"
        }
      ]
    },
    {
      "cell_type": "markdown",
      "metadata": {
        "id": "xLcAi-6puejB",
        "colab_type": "text"
      },
      "source": [
        "**Ex0.a - Cara**"
      ]
    },
    {
      "cell_type": "code",
      "metadata": {
        "id": "TxwSgwHcueqv",
        "colab_type": "code",
        "colab": {
          "base_uri": "https://localhost:8080/",
          "height": 68
        },
        "outputId": "e5fd0e7a-ef4d-414c-b4ba-0593b3ec5c45"
      },
      "source": [
        "from ex0 import Cara\n",
        "\n",
        "joao = Cara(\"Joao da Silva\", 100)\n",
        "ze = Cara(\"Jose Roberto\" ,100)\n",
        "\n",
        "emprestimo = 15\n",
        "confirmado = joao.emprestar(emprestimo)\n",
        "if (confirmado == True):\n",
        "  ze.tomar_emprestado(emprestimo)\n",
        "  print(\"Emprestimo efetuado com sucesso\")\n",
        "  print(\"Saldo do Joao \" , joao.grana)\n",
        "  print(\"Saldo do Joao \" , ze.grana)\n",
        "else:\n",
        "  print(\"Saldo insuficiente para realizar o emprestimo \")\n"
      ],
      "execution_count": 7,
      "outputs": [
        {
          "output_type": "stream",
          "text": [
            "Emprestimo efetuado com sucesso\n",
            "Saldo do Joao  85\n",
            "Saldo do Joao  115\n"
          ],
          "name": "stdout"
        }
      ]
    },
    {
      "cell_type": "markdown",
      "metadata": {
        "id": "vYN4ucDTue3a",
        "colab_type": "text"
      },
      "source": [
        "**Ex0.b**"
      ]
    },
    {
      "cell_type": "code",
      "metadata": {
        "id": "vA9EtTyfue_u",
        "colab_type": "code",
        "colab": {
          "base_uri": "https://localhost:8080/",
          "height": 85
        },
        "outputId": "2483a251-9cc1-4ab4-9c0d-cc5382d1a86b"
      },
      "source": [
        "from ex0 import Calculadora\n",
        "\n",
        "calc =  Calculadora()\n",
        "soma = calc.somar(1, 2)\n",
        "sub = calc.subtrair(3, 1)\n",
        "mult = calc.multiplicar(2, 10)\n",
        "div = calc.dividir(6, 3)\n",
        "\t\t\n",
        "print(\"1 + 2 = \",soma)\n",
        "print(\"3 - 1 = \",sub)\n",
        "print(\"2 * 10 = \", mult)\n",
        "print(\"6 / 3 = \",div)"
      ],
      "execution_count": 8,
      "outputs": [
        {
          "output_type": "stream",
          "text": [
            "1 + 2 =  3\n",
            "3 - 1 =  2\n",
            "2 * 10 =  20\n",
            "6 / 3 =  2.0\n"
          ],
          "name": "stdout"
        }
      ]
    },
    {
      "cell_type": "markdown",
      "metadata": {
        "id": "BHGRK_fHufKs",
        "colab_type": "text"
      },
      "source": [
        "**Ex1a - CadastroAlunos**"
      ]
    },
    {
      "cell_type": "code",
      "metadata": {
        "id": "EoQqW8hZufSC",
        "colab_type": "code",
        "colab": {
          "base_uri": "https://localhost:8080/",
          "height": 238
        },
        "outputId": "c66a6b9f-8255-4042-fd00-b6d61628d6eb"
      },
      "source": [
        "from ex1 import Aluno\n",
        "from ex1 import CadastroAlunos\n",
        "\n",
        "escola = CadastroAlunos()\n",
        "escola.addAluno(Aluno(\"Luiz\", 5))\n",
        "escola.addAluno(Aluno(\"Ze\", 7))\n",
        "escola.addAluno(Aluno(\"Mane\", 3))\n",
        "escola.addAluno(Aluno(\"Maria\", 2))\n",
        "escola.addAluno(Aluno(\"Joao\", 1))\n",
        "escola.imprimeLista()\n",
        "print('-------')\n",
        "media = escola.ordenaCalculaMedia()\n",
        "escola.imprimeLista()\n",
        "print('-------')\n",
        "menor = escola.getAluno(0).nota\n",
        "maior = escola.getAluno(-1).nota\n",
        "print(\"MEDIA=\" , media , \" MENOR=\",menor,\" MAIOR=\",maior)"
      ],
      "execution_count": 9,
      "outputs": [
        {
          "output_type": "stream",
          "text": [
            "Luiz : 5\n",
            "Ze : 7\n",
            "Mane : 3\n",
            "Maria : 2\n",
            "Joao : 1\n",
            "-------\n",
            "Joao : 1\n",
            "Ze : 7\n",
            "Luiz : 5\n",
            "Mane : 3\n",
            "Maria : 2\n",
            "-------\n",
            "MEDIA= 1.0  MENOR= 1  MAIOR= 2\n"
          ],
          "name": "stdout"
        }
      ]
    },
    {
      "cell_type": "markdown",
      "metadata": {
        "id": "u_yYHNaXufYc",
        "colab_type": "text"
      },
      "source": [
        "**Ex1.b - Festa**"
      ]
    },
    {
      "cell_type": "code",
      "metadata": {
        "id": "1oUYVd28uffM",
        "colab_type": "code",
        "colab": {
          "base_uri": "https://localhost:8080/",
          "height": 136
        },
        "outputId": "0d9abf8e-25e9-4e29-bf56-a8df5d85100f"
      },
      "source": [
        "from ex1 import CalculadoraFesta\n",
        "\n",
        "print(\"Informe a quantidade de pessoas (a $25/p referente a Comida)\")\n",
        "numPess =  int(input())\n",
        "print(\"Gostaria da opcao de bebida saudavel? (S = $5/p c/ 5% desconto | N = $20/p)\")\n",
        "digitado = input()\n",
        "saudavel = False\n",
        "if ('S' == digitado):\n",
        "  saudavel = True\n",
        "print(\"Gostaria da decoracao diferenciada? (S = $15/p + $50 | N = $7.5/p + $30 )\")\n",
        "digitado = input()\n",
        "decDiff = False\n",
        "if ('S'== digitado): \n",
        "  decDiff = True\n",
        "calc = CalculadoraFesta(numPess, saudavel, decDiff)\n",
        "total = calc.calcularTotalFesta()\n",
        "print(\"Total da Festa: $\",total )"
      ],
      "execution_count": 10,
      "outputs": [
        {
          "output_type": "stream",
          "text": [
            "Informe a quantidade de pessoas (a $25/p referente a Comida)\n",
            "11\n",
            "Gostaria da opcao de bebida saudavel? (S = $5/p c/ 5% desconto | N = $20/p)\n",
            "S\n",
            "Gostaria da decoracao diferenciada? (S = $15/p + $50 | N = $7.5/p + $30 )\n",
            "S\n",
            "Total da Festa: $ 517.75\n"
          ],
          "name": "stdout"
        }
      ]
    },
    {
      "cell_type": "markdown",
      "metadata": {
        "id": "bKHToLR6ufmH",
        "colab_type": "text"
      },
      "source": [
        "**Ex2.o Figuras (Heranca)**"
      ]
    },
    {
      "cell_type": "code",
      "metadata": {
        "id": "kM77uyo8ufs7",
        "colab_type": "code",
        "colab": {
          "base_uri": "https://localhost:8080/",
          "height": 68
        },
        "outputId": "28622637-bbd8-48f3-f43b-4bd56d99a214"
      },
      "source": [
        "from ex2 import Quadrado\n",
        "from ex2 import Triangulo\n",
        "from ex2 import Circulo\n",
        "\n",
        "# f - Figura\n",
        "f=  Quadrado(2)\n",
        "print(f.area())\n",
        "f =  Triangulo(2,2)\n",
        "print(f.area())\n",
        "f =  Circulo(2)\n",
        "print(f.area())"
      ],
      "execution_count": 11,
      "outputs": [
        {
          "output_type": "stream",
          "text": [
            "4\n",
            "2.0\n",
            "12.56\n"
          ],
          "name": "stdout"
        }
      ]
    },
    {
      "cell_type": "markdown",
      "metadata": {
        "id": "OchLZXaZuf0H",
        "colab_type": "text"
      },
      "source": [
        "**Ex2 Heranca**"
      ]
    },
    {
      "cell_type": "code",
      "metadata": {
        "id": "TPJhBpe-uf6k",
        "colab_type": "code",
        "colab": {
          "base_uri": "https://localhost:8080/",
          "height": 238
        },
        "outputId": "27970e90-1e74-4a92-99d3-5cbe6e9514bd"
      },
      "source": [
        "from ex2 import CalculadoraFestaCoquetel\n",
        "from ex2 import CalculadoraFestaAniversario\n",
        "\n",
        "print(\"Informe o tipo de festa (C)oquetel ou (A)niversario\")\n",
        "digitadoTipoFesta = input()\n",
        "print(\"\\nInforme a quantidade de pessoas (a $25/p referente a Comida)\")\n",
        "numPess = int(input())\n",
        "print(\"\\nGostaria da decoracao diferenciada? (S = $15/p + $50 | N = $7.5/p + $30 )\")\n",
        "digitado = input()\n",
        "decDiff = False\n",
        "if ('S'==digitado):\n",
        "  decDiff = True\n",
        "if ('C'==digitadoTipoFesta):\n",
        "  print(\"\\nGostaria da opcao de bebida saudavel? (S = $5/p c/ 5% desconto | N = $20/p)\")\n",
        "  digitado = input()\n",
        "  saudavel = False\n",
        "  if ('S'==digitado):\n",
        "    saudavel = True\n",
        "  calc =  CalculadoraFestaCoquetel(numPess, decDiff,saudavel)\n",
        "elif ('A'==digitadoTipoFesta):\n",
        "  print(\"\\nInforme o texto do bolo\")\n",
        "  texto = input()\n",
        "  calc =  CalculadoraFestaAniversario(numPess, decDiff, texto)\n",
        "\n",
        "total = calc.calcularTotalFesta()\n",
        "print(\"\\n Total da Festa: $\" , total)"
      ],
      "execution_count": 12,
      "outputs": [
        {
          "output_type": "stream",
          "text": [
            "Informe o tipo de festa (C)oquetel ou (A)niversario\n",
            "C\n",
            "\n",
            "Informe a quantidade de pessoas (a $25/p referente a Comida)\n",
            "11\n",
            "\n",
            "Gostaria da decoracao diferenciada? (S = $15/p + $50 | N = $7.5/p + $30 )\n",
            "S\n",
            "\n",
            "Gostaria da opcao de bebida saudavel? (S = $5/p c/ 5% desconto | N = $20/p)\n",
            "S\n",
            "\n",
            " Total da Festa: $ 517.75\n"
          ],
          "name": "stdout"
        }
      ]
    },
    {
      "cell_type": "markdown",
      "metadata": {
        "id": "YId2U6Kfz4gE",
        "colab_type": "text"
      },
      "source": [
        "**Ex3 Modularidade/Camadas**"
      ]
    },
    {
      "cell_type": "code",
      "metadata": {
        "id": "BjGWyTy1z4mm",
        "colab_type": "code",
        "colab": {}
      },
      "source": [
        "#N/A"
      ],
      "execution_count": 0,
      "outputs": []
    },
    {
      "cell_type": "markdown",
      "metadata": {
        "id": "MLVlSkJBz4tl",
        "colab_type": "text"
      },
      "source": [
        "**Ex4 Excecoes**"
      ]
    },
    {
      "cell_type": "code",
      "metadata": {
        "id": "mb4VdZ0Lz4z6",
        "colab_type": "code",
        "colab": {
          "base_uri": "https://localhost:8080/",
          "height": 34
        },
        "outputId": "6a71a684-5356-4247-a1ce-54c4deda20b3"
      },
      "source": [
        "from ex4 import CadastroAlunos\n",
        "from ex4 import Aluno\n",
        "from ex4 import JaMatriculadoException\n",
        "\n",
        "\n",
        "escola = CadastroAlunos()\n",
        "try:\n",
        "  escola.addAluno(Aluno(\"Luiz\", 5))\n",
        "  escola.addAluno(Aluno(\"Luiz\", 7))\n",
        "  escola.addAluno(Aluno(\"Mane\", 3))\n",
        "  escola.addAluno(Aluno(\"Maria\", 2))\n",
        "  escola.addAluno(Aluno(\"Joao\", 1))\n",
        "\n",
        "  escola.imprimeLista()\n",
        "  print('-------')\n",
        "  media = escola.ordenaCalculaMedia()\n",
        "  escola.imprimeLista()\n",
        "  print('-------')\n",
        "  menor = escola.getAluno(0).nota\n",
        "  maior = escola.getAluno(-1).nota\n",
        "  print(\"MEDIA=\" , media , \" MENOR=\",menor,\" MAIOR=\",maior)\n",
        "except JaMatriculadoException :\n",
        "  print('Ja Matriculado' , JaMatriculadoException.nome )"
      ],
      "execution_count": 14,
      "outputs": [
        {
          "output_type": "stream",
          "text": [
            "Ja Matriculado <property object at 0x7fba4a343ea8>\n"
          ],
          "name": "stdout"
        }
      ]
    },
    {
      "cell_type": "markdown",
      "metadata": {
        "id": "K3HJxQI4z46n",
        "colab_type": "text"
      },
      "source": [
        "**Ex5 Colecoes**"
      ]
    },
    {
      "cell_type": "code",
      "metadata": {
        "id": "rJi4gA5cz5BU",
        "colab_type": "code",
        "colab": {
          "base_uri": "https://localhost:8080/",
          "height": 238
        },
        "outputId": "837f61fd-2627-4e1b-c5a1-5f779f46de7a"
      },
      "source": [
        "from ex5 import CadastroAlunos\n",
        "from ex5 import Aluno\n",
        "from ex5 import JaMatriculadoException\n",
        "\n",
        "escola = CadastroAlunos()\n",
        "try:\n",
        "  luiz = Aluno(\"Luiz\", 5)\n",
        "  escola.addAluno(luiz)\n",
        "  escola.addAluno(Aluno(\"Ze\", 7))\n",
        "  escola.addAluno(Aluno(\"Mane\", 3))\n",
        "  escola.addAluno(Aluno(\"Maria\", 2))\n",
        "  escola.addAluno(Aluno(\"Joao\", 1))\n",
        "\n",
        "  escola.imprimeLista()\n",
        "  print('-------')\n",
        "  media = escola.ordenaCalculaMedia()\n",
        "\n",
        "  for a in escola:\n",
        "    print(a.nome, ' = ', a.nota)\n",
        "  print('-------')\n",
        "  menor = escola.getAluno(0).nota\n",
        "  maior = escola.getAluno(-1).nota\n",
        "  print(\"MEDIA=\" , media , \" MENOR=\",menor,\" MAIOR=\",maior)\n",
        "except JaMatriculadoException :\n",
        "  print('Ja Matriculado' , JaMatriculadoException.nome )"
      ],
      "execution_count": 15,
      "outputs": [
        {
          "output_type": "stream",
          "text": [
            "Luiz : 5\n",
            "Ze : 7\n",
            "Mane : 3\n",
            "Maria : 2\n",
            "Joao : 1\n",
            "-------\n",
            "Joao  =  1\n",
            "Ze  =  7\n",
            "Luiz  =  5\n",
            "Mane  =  3\n",
            "Maria  =  2\n",
            "-------\n",
            "MEDIA= 1.0  MENOR= 1  MAIOR= 2\n"
          ],
          "name": "stdout"
        }
      ]
    }
  ]
}