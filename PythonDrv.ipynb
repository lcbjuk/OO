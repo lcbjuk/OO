{
  "nbformat": 4,
  "nbformat_minor": 0,
  "metadata": {
    "colab": {
      "name": "PythonDrv.ipynb",
      "provenance": [],
      "authorship_tag": "ABX9TyOJwUH0AwVDnGaJeINcyqMx",
      "include_colab_link": true
    },
    "kernelspec": {
      "name": "python3",
      "display_name": "Python 3"
    }
  },
  "cells": [
    {
      "cell_type": "markdown",
      "metadata": {
        "id": "view-in-github",
        "colab_type": "text"
      },
      "source": [
        "<a href=\"https://colab.research.google.com/github/lcbjuk/OO/blob/master/PythonDrv.ipynb\" target=\"_parent\"><img src=\"https://colab.research.google.com/assets/colab-badge.svg\" alt=\"Open In Colab\"/></a>"
      ]
    },
    {
      "cell_type": "code",
      "metadata": {
        "id": "WfAoDRuTvBE4",
        "colab_type": "code",
        "outputId": "9ac27bb8-7e92-4489-804c-530570cee4c7",
        "colab": {
          "base_uri": "https://localhost:8080/",
          "height": 34
        }
      },
      "source": [
        " from google.colab import drive\n",
        " drive.mount('/content/drive')"
      ],
      "execution_count": 4,
      "outputs": [
        {
          "output_type": "stream",
          "text": [
            "Drive already mounted at /content/drive; to attempt to forcibly remount, call drive.mount(\"/content/drive\", force_remount=True).\n"
          ],
          "name": "stdout"
        }
      ]
    },
    {
      "cell_type": "code",
      "metadata": {
        "id": "dhC0EXM22c8X",
        "colab_type": "code",
        "colab": {}
      },
      "source": [
        "import sys\n",
        "sys.path.append('/content/drive/My Drive/FIAP/Grad/OO')"
      ],
      "execution_count": 0,
      "outputs": []
    },
    {
      "cell_type": "markdown",
      "metadata": {
        "id": "xLcAi-6puejB",
        "colab_type": "text"
      },
      "source": [
        "**Ex0.a - Cara**"
      ]
    },
    {
      "cell_type": "code",
      "metadata": {
        "id": "TxwSgwHcueqv",
        "colab_type": "code",
        "outputId": "4567bfcd-3e52-492c-cc37-afdbc79254fc",
        "colab": {
          "base_uri": "https://localhost:8080/",
          "height": 68
        }
      },
      "source": [
        "from ex0 import Cara\n",
        "\n",
        "joao = Cara(\"Joao da Silva\", 100)\n",
        "ze = Cara(\"Jose Roberto\" ,100)\n",
        "\n",
        "emprestimo = 15\n",
        "confirmado = joao.emprestar(emprestimo)\n",
        "if (confirmado == True):\n",
        "  ze.tomar_emprestado(emprestimo)\n",
        "  print(\"Emprestimo efetuado com sucesso\")\n",
        "  print(\"Saldo do Joao \" , joao.grana)\n",
        "  print(\"Saldo do Joao \" , ze.grana)\n",
        "else:\n",
        "  print(\"Saldo insuficiente para realizar o emprestimo \")\n"
      ],
      "execution_count": 6,
      "outputs": [
        {
          "output_type": "stream",
          "text": [
            "Emprestimo efetuado com sucesso\n",
            "Saldo do Joao  85\n",
            "Saldo do Joao  115\n"
          ],
          "name": "stdout"
        }
      ]
    },
    {
      "cell_type": "markdown",
      "metadata": {
        "id": "vYN4ucDTue3a",
        "colab_type": "text"
      },
      "source": [
        "**Ex0.b**"
      ]
    },
    {
      "cell_type": "code",
      "metadata": {
        "id": "vA9EtTyfue_u",
        "colab_type": "code",
        "outputId": "b2379696-4151-4aaf-ae84-c0e8ee0e1925",
        "colab": {
          "base_uri": "https://localhost:8080/",
          "height": 85
        }
      },
      "source": [
        "from ex0 import Calculadora\n",
        "\n",
        "calc =  Calculadora()\n",
        "soma = calc.somar(1, 2)\n",
        "sub = calc.subtrair(3, 1)\n",
        "mult = calc.multiplicar(2, 10)\n",
        "div = calc.dividir(6, 3)\n",
        "\t\t\n",
        "print(\"1 + 2 = \",soma)\n",
        "print(\"3 - 1 = \",sub)\n",
        "print(\"2 * 10 = \", mult)\n",
        "print(\"6 / 3 = \",div)"
      ],
      "execution_count": 7,
      "outputs": [
        {
          "output_type": "stream",
          "text": [
            "1 + 2 =  3\n",
            "3 - 1 =  2\n",
            "2 * 10 =  20\n",
            "6 / 3 =  2.0\n"
          ],
          "name": "stdout"
        }
      ]
    },
    {
      "cell_type": "markdown",
      "metadata": {
        "id": "BHGRK_fHufKs",
        "colab_type": "text"
      },
      "source": [
        "**Ex1a - CadastroAlunos**"
      ]
    },
    {
      "cell_type": "code",
      "metadata": {
        "id": "EoQqW8hZufSC",
        "colab_type": "code",
        "outputId": "11c0ae47-96fc-4c5c-cddf-9ac7d48bd6bb",
        "colab": {
          "base_uri": "https://localhost:8080/",
          "height": 238
        }
      },
      "source": [
        "from ex1 import Aluno\n",
        "from ex1 import CadastroAlunos\n",
        "\n",
        "escola = CadastroAlunos()\n",
        "escola.addAluno(Aluno(\"Luiz\", 5))\n",
        "escola.addAluno(Aluno(\"Ze\", 7))\n",
        "escola.addAluno(Aluno(\"Mane\", 3))\n",
        "escola.addAluno(Aluno(\"Maria\", 2))\n",
        "escola.addAluno(Aluno(\"Joao\", 1))\n",
        "escola.imprimeLista()\n",
        "print('-------')\n",
        "media = escola.ordenaCalculaMedia()\n",
        "escola.imprimeLista()\n",
        "print('-------')\n",
        "menor = escola.getAluno(0).nota\n",
        "maior = escola.getAluno(-1).nota\n",
        "print(\"MEDIA=\" , media , \" MENOR=\",menor,\" MAIOR=\",maior)"
      ],
      "execution_count": 8,
      "outputs": [
        {
          "output_type": "stream",
          "text": [
            "Luiz : 5\n",
            "Ze : 7\n",
            "Mane : 3\n",
            "Maria : 2\n",
            "Joao : 1\n",
            "-------\n",
            "Joao : 1\n",
            "Ze : 7\n",
            "Luiz : 5\n",
            "Mane : 3\n",
            "Maria : 2\n",
            "-------\n",
            "MEDIA= 1.0  MENOR= 1  MAIOR= 2\n"
          ],
          "name": "stdout"
        }
      ]
    },
    {
      "cell_type": "markdown",
      "metadata": {
        "id": "u_yYHNaXufYc",
        "colab_type": "text"
      },
      "source": [
        "**Ex1.b - Festa**"
      ]
    },
    {
      "cell_type": "code",
      "metadata": {
        "id": "1oUYVd28uffM",
        "colab_type": "code",
        "outputId": "a759bea5-ab39-443e-9cb6-75c65799b375",
        "colab": {
          "base_uri": "https://localhost:8080/",
          "height": 136
        }
      },
      "source": [
        "from ex1 import CalculadoraFesta\n",
        "\n",
        "print(\"Informe a quantidade de pessoas (a $25/p referente a Comida)\")\n",
        "numPess =  int(input())\n",
        "print(\"Gostaria da opcao de bebida saudavel? (S = $5/p c/ 5% desconto | N = $20/p)\")\n",
        "digitado = input()\n",
        "saudavel = False\n",
        "if ('S' == digitado):\n",
        "  saudavel = True\n",
        "print(\"Gostaria da decoracao diferenciada? (S = $15/p + $50 | N = $7.5/p + $30 )\")\n",
        "digitado = input()\n",
        "decDiff = False\n",
        "if ('S'== digitado): \n",
        "  decDiff = True\n",
        "calc = CalculadoraFesta(numPess, saudavel, decDiff)\n",
        "total = calc.calcularTotalFesta()\n",
        "print(\"Total da Festa: $\",total )"
      ],
      "execution_count": 9,
      "outputs": [
        {
          "output_type": "stream",
          "text": [
            "Informe a quantidade de pessoas (a $25/p referente a Comida)\n",
            "1\n",
            "Gostaria da opcao de bebida saudavel? (S = $5/p c/ 5% desconto | N = $20/p)\n",
            "S\n",
            "Gostaria da decoracao diferenciada? (S = $15/p + $50 | N = $7.5/p + $30 )\n",
            "S\n",
            "Total da Festa: $ 90.25\n"
          ],
          "name": "stdout"
        }
      ]
    },
    {
      "cell_type": "markdown",
      "metadata": {
        "id": "bKHToLR6ufmH",
        "colab_type": "text"
      },
      "source": [
        "**Ex2.o Figuras (Heranca)**"
      ]
    },
    {
      "cell_type": "code",
      "metadata": {
        "id": "kM77uyo8ufs7",
        "colab_type": "code",
        "outputId": "1b21a8c7-9304-41a5-bf9f-f1b95f320ebc",
        "colab": {
          "base_uri": "https://localhost:8080/",
          "height": 68
        }
      },
      "source": [
        "from ex2 import Quadrado\n",
        "from ex2 import Triangulo\n",
        "from ex2 import Circulo\n",
        "\n",
        "# f - Figura\n",
        "f=  Quadrado(2)\n",
        "print(f.area())\n",
        "f =  Triangulo(2,2)\n",
        "print(f.area())\n",
        "f =  Circulo(2)\n",
        "print(f.area())"
      ],
      "execution_count": 10,
      "outputs": [
        {
          "output_type": "stream",
          "text": [
            "4\n",
            "2.0\n",
            "12.56\n"
          ],
          "name": "stdout"
        }
      ]
    },
    {
      "cell_type": "markdown",
      "metadata": {
        "id": "OchLZXaZuf0H",
        "colab_type": "text"
      },
      "source": [
        "**Ex2 Heranca**"
      ]
    },
    {
      "cell_type": "code",
      "metadata": {
        "id": "TPJhBpe-uf6k",
        "colab_type": "code",
        "outputId": "ca8be658-3670-4ad7-f652-afbf202cc93b",
        "colab": {
          "base_uri": "https://localhost:8080/",
          "height": 238
        }
      },
      "source": [
        "from ex2 import CalculadoraFestaCoquetel\n",
        "from ex2 import CalculadoraFestaAniversario\n",
        "\n",
        "print(\"Informe o tipo de festa (C)oquetel ou (A)niversario\")\n",
        "digitadoTipoFesta = input()\n",
        "print(\"\\nInforme a quantidade de pessoas (a $25/p referente a Comida)\")\n",
        "numPess = int(input())\n",
        "print(\"\\nGostaria da decoracao diferenciada? (S = $15/p + $50 | N = $7.5/p + $30 )\")\n",
        "digitado = input()\n",
        "decDiff = False\n",
        "if ('S'==digitado):\n",
        "  decDiff = True\n",
        "if ('C'==digitadoTipoFesta):\n",
        "  print(\"\\nGostaria da opcao de bebida saudavel? (S = $5/p c/ 5% desconto | N = $20/p)\")\n",
        "  digitado = input()\n",
        "  saudavel = False\n",
        "  if ('S'==digitado):\n",
        "    saudavel = True\n",
        "  calc =  CalculadoraFestaCoquetel(numPess, decDiff,saudavel)\n",
        "elif ('A'==digitadoTipoFesta):\n",
        "  print(\"\\nInforme o texto do bolo\")\n",
        "  texto = input()\n",
        "  calc =  CalculadoraFestaAniversario(numPess, decDiff, texto)\n",
        "\n",
        "total = calc.calcularTotalFesta()\n",
        "print(\"\\n Total da Festa: $\" , total)"
      ],
      "execution_count": 11,
      "outputs": [
        {
          "output_type": "stream",
          "text": [
            "Informe o tipo de festa (C)oquetel ou (A)niversario\n",
            "A\n",
            "\n",
            "Informe a quantidade de pessoas (a $25/p referente a Comida)\n",
            "11\n",
            "\n",
            "Gostaria da decoracao diferenciada? (S = $15/p + $50 | N = $7.5/p + $30 )\n",
            "S\n",
            "\n",
            "Informe o texto do bolo\n",
            "dsds dsad\n",
            "\n",
            " Total da Festa: $ 567.25\n"
          ],
          "name": "stdout"
        }
      ]
    },
    {
      "cell_type": "markdown",
      "metadata": {
        "id": "YId2U6Kfz4gE",
        "colab_type": "text"
      },
      "source": [
        "**Ex3 Modularidade/Camadas**"
      ]
    },
    {
      "cell_type": "code",
      "metadata": {
        "id": "BjGWyTy1z4mm",
        "colab_type": "code",
        "colab": {}
      },
      "source": [
        "#N/A"
      ],
      "execution_count": 0,
      "outputs": []
    },
    {
      "cell_type": "markdown",
      "metadata": {
        "id": "MLVlSkJBz4tl",
        "colab_type": "text"
      },
      "source": [
        "**Ex4 Excecoes**"
      ]
    },
    {
      "cell_type": "code",
      "metadata": {
        "id": "mb4VdZ0Lz4z6",
        "colab_type": "code",
        "outputId": "6fdbde31-b164-439b-b730-a1748ceadd1d",
        "colab": {
          "base_uri": "https://localhost:8080/",
          "height": 34
        }
      },
      "source": [
        "from ex4 import CadastroAlunos\n",
        "from ex4 import Aluno\n",
        "from ex4 import JaMatriculadoException\n",
        "\n",
        "\n",
        "escola = CadastroAlunos()\n",
        "try:\n",
        "  escola.addAluno(Aluno(\"Luiz\", 5))\n",
        "  escola.addAluno(Aluno(\"Luiz\", 7))\n",
        "  escola.addAluno(Aluno(\"Mane\", 3))\n",
        "  escola.addAluno(Aluno(\"Maria\", 2))\n",
        "  escola.addAluno(Aluno(\"Joao\", 1))\n",
        "\n",
        "  escola.imprimeLista()\n",
        "  print('-------')\n",
        "  media = escola.ordenaCalculaMedia()\n",
        "  escola.imprimeLista()\n",
        "  print('-------')\n",
        "  menor = escola.getAluno(0).nota\n",
        "  maior = escola.getAluno(-1).nota\n",
        "  print(\"MEDIA=\" , media , \" MENOR=\",menor,\" MAIOR=\",maior)\n",
        "except JaMatriculadoException :\n",
        "  print('Ja Matriculado' , JaMatriculadoException.nome )"
      ],
      "execution_count": 13,
      "outputs": [
        {
          "output_type": "stream",
          "text": [
            "Ja Matriculado <property object at 0x7f7078fa2368>\n"
          ],
          "name": "stdout"
        }
      ]
    },
    {
      "cell_type": "markdown",
      "metadata": {
        "id": "K3HJxQI4z46n",
        "colab_type": "text"
      },
      "source": [
        "**Ex5 Colecoes**"
      ]
    },
    {
      "cell_type": "code",
      "metadata": {
        "id": "rJi4gA5cz5BU",
        "colab_type": "code",
        "outputId": "568fbe29-b34d-46c3-dfbd-0160ecae63e5",
        "colab": {
          "base_uri": "https://localhost:8080/",
          "height": 238
        }
      },
      "source": [
        "from ex5 import CadastroAlunos\n",
        "from ex5 import Aluno\n",
        "from ex5 import JaMatriculadoException\n",
        "\n",
        "escola = CadastroAlunos()\n",
        "try:\n",
        "  luiz = Aluno(\"Luiz\", 5)\n",
        "  escola.addAluno(luiz)\n",
        "  escola.addAluno(Aluno(\"Ze\", 7))\n",
        "  escola.addAluno(Aluno(\"Mane\", 3))\n",
        "  escola.addAluno(Aluno(\"Maria\", 2))\n",
        "  escola.addAluno(Aluno(\"Joao\", 1))\n",
        "\n",
        "  escola.imprimeLista()\n",
        "  print('-------')\n",
        "  media = escola.ordenaCalculaMedia()\n",
        "\n",
        "  for a in escola:\n",
        "    print(a.nome, ' = ', a.nota)\n",
        "  print('-------')\n",
        "  menor = escola.getAluno(0).nota\n",
        "  maior = escola.getAluno(-1).nota\n",
        "  print(\"MEDIA=\" , media , \" MENOR=\",menor,\" MAIOR=\",maior)\n",
        "except JaMatriculadoException :\n",
        "  print('Ja Matriculado' , JaMatriculadoException.nome )"
      ],
      "execution_count": 14,
      "outputs": [
        {
          "output_type": "stream",
          "text": [
            "Luiz : 5\n",
            "Ze : 7\n",
            "Mane : 3\n",
            "Maria : 2\n",
            "Joao : 1\n",
            "-------\n",
            "Joao  =  1\n",
            "Ze  =  7\n",
            "Luiz  =  5\n",
            "Mane  =  3\n",
            "Maria  =  2\n",
            "-------\n",
            "MEDIA= 1.0  MENOR= 1  MAIOR= 2\n"
          ],
          "name": "stdout"
        }
      ]
    }
  ]
}