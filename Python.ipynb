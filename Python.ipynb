{
  "nbformat": 4,
  "nbformat_minor": 0,
  "metadata": {
    "colab": {
      "name": "Python.ipynb",
      "provenance": [],
      "authorship_tag": "ABX9TyN7jgwL7DS0PCdzEiZ8ZiIj",
      "include_colab_link": true
    },
    "kernelspec": {
      "name": "python3",
      "display_name": "Python 3"
    }
  },
  "cells": [
    {
      "cell_type": "markdown",
      "metadata": {
        "id": "view-in-github",
        "colab_type": "text"
      },
      "source": [
        "<a href=\"https://colab.research.google.com/github/lcbjuk/OO/blob/master/Python.ipynb\" target=\"_parent\"><img src=\"https://colab.research.google.com/assets/colab-badge.svg\" alt=\"Open In Colab\"/></a>"
      ]
    },
    {
      "cell_type": "markdown",
      "metadata": {
        "id": "XrCv4N9Ya-pb",
        "colab_type": "text"
      },
      "source": [
        "**Ex0.a - Cara**"
      ]
    },
    {
      "cell_type": "code",
      "metadata": {
        "id": "Pj3fUr77a-4W",
        "colab_type": "code",
        "outputId": "5c083c7c-93aa-49d6-8a36-7075fc6b7040",
        "colab": {
          "base_uri": "https://localhost:8080/",
          "height": 68
        }
      },
      "source": [
        "class Cara():\n",
        "  def __init__(self, nome, grana):\n",
        "    self.nome = nome\n",
        "    self.grana = grana\n",
        "  \n",
        "  def emprestar(self, valor):\n",
        "    if(self.grana > valor):\n",
        "      self.grana = self.grana - valor\n",
        "      return True\n",
        "    else:\n",
        "      return False\n",
        "\n",
        "  def tomar_emprestado(self, valor):\n",
        "    self.grana = self.grana + valor\n",
        "\n",
        "joao = Cara(\"Joao da Silva\", 100)\n",
        "ze = Cara(\"Jose Roberto\" ,100)\n",
        "\n",
        "emprestimo = 15\n",
        "confirmado = joao.emprestar(emprestimo)\n",
        "if (confirmado == True):\n",
        "  ze.tomar_emprestado(emprestimo)\n",
        "  print(\"Emprestimo efetuado com sucesso\")\n",
        "  print(\"Saldo do Joao \" , joao.grana)\n",
        "  print(\"Saldo do Joao \" , ze.grana)\n",
        "else:\n",
        "  print(\"Saldo insuficiente para realizar o emprestimo \")"
      ],
      "execution_count": 133,
      "outputs": [
        {
          "output_type": "stream",
          "text": [
            "Emprestimo efetuado com sucesso\n",
            "Saldo do Joao  85\n",
            "Saldo do Joao  115\n"
          ],
          "name": "stdout"
        }
      ]
    },
    {
      "cell_type": "markdown",
      "metadata": {
        "id": "1F-U7Fs9chK3",
        "colab_type": "text"
      },
      "source": [
        "**Ex0.b**"
      ]
    },
    {
      "cell_type": "code",
      "metadata": {
        "id": "MRfEZpl0cjk9",
        "colab_type": "code",
        "outputId": "f08a078a-9ed3-41f4-dce1-6a484ee4ad4d",
        "colab": {
          "base_uri": "https://localhost:8080/",
          "height": 85
        }
      },
      "source": [
        "class Calculadora:\n",
        "  def somar (self, v1,  v2):\n",
        "\t\treturn v1 + v2\n",
        "  \n",
        "  def subtrair(self, v1,  v2):\n",
        "\t\treturn v1 - v2\n",
        "    \n",
        "  def multiplicar (self,  v1,   v2):\n",
        "\t\treturn v1 * v2\n",
        "    \n",
        "  def dividir (self, v1,  v2):\n",
        "\t\tif (v2 != 0):\n",
        "\t\t\treturn v1 / v2\n",
        "\t\telse:\n",
        "\t\t\treturn -1\n",
        "\n",
        "calc =  Calculadora()\n",
        "soma = calc.somar(1, 2)\n",
        "sub = calc.subtrair(3, 1)\n",
        "mult = calc.multiplicar(2, 10)\n",
        "div = calc.dividir(6, 3)\n",
        "\t\t\n",
        "print(\"1 + 2 = \",soma)\n",
        "print(\"3 - 1 = \",sub)\n",
        "print(\"2 * 10 = \", mult)\n",
        "print(\"6 / 3 = \",div)\n",
        "\n"
      ],
      "execution_count": 134,
      "outputs": [
        {
          "output_type": "stream",
          "text": [
            "1 + 2 =  3\n",
            "3 - 1 =  2\n",
            "2 * 10 =  20\n",
            "6 / 3 =  2.0\n"
          ],
          "name": "stdout"
        }
      ]
    },
    {
      "cell_type": "markdown",
      "metadata": {
        "id": "tUmPvvQ8iksz",
        "colab_type": "text"
      },
      "source": [
        "**Ex1a - CadastroAlunos**"
      ]
    },
    {
      "cell_type": "code",
      "metadata": {
        "id": "iVQ1ExNaio7C",
        "colab_type": "code",
        "outputId": "9780d810-9aa6-4987-cf72-f058eb53c521",
        "colab": {
          "base_uri": "https://localhost:8080/",
          "height": 238
        }
      },
      "source": [
        "class Aluno:\n",
        "  def __init__(self,nome,nota):\n",
        "    self.__nome=nome\n",
        "    self.__nota=nota\n",
        "  @property\n",
        "  def nome(self):\n",
        "    return self.__nome\n",
        "  @nome.setter\n",
        "  def nome(self,nome):\n",
        "    self.__nome=nome\n",
        "\n",
        "  @property\n",
        "  def nota(self):\n",
        "    return self.__nota\n",
        "  @nota.setter\n",
        "  def nota(self,nota):\n",
        "    sefl.__nota=nota\n",
        "\n",
        "class CadastroAlunos:\n",
        "  def __init__(self):\n",
        "    self.__alunos = []\n",
        "  \n",
        "  def addAluno(self, aluno):\n",
        "    self.__alunos.append(aluno)\n",
        "\n",
        "  def getAluno(self, posicao):\n",
        "    return self.__alunos[posicao]\n",
        "\n",
        "  def ordenaCalculaMedia(self):\n",
        "    media = 0\n",
        "    for i in range(0,len(self.__alunos),1):\n",
        "      media += self.__alunos[i].nota\n",
        "      for j in range(i+1,len(self.__alunos),1): \n",
        "        if (self.__alunos[i].nota > self.__alunos[j].nota):\n",
        "          swap = self.__alunos[i]\n",
        "          self.__alunos[i] = self.__alunos[j]\n",
        "          self.__alunos[j] = swap;\n",
        "      media /= len(self.__alunos)\n",
        "      return media  \n",
        "      \n",
        "  def imprimeLista(self):\n",
        "    for i in range(0,len(self.__alunos),1):\n",
        "      print(self.__alunos[i].nome , \":\" , self.__alunos[i].nota)\n",
        "\n",
        "escola = CadastroAlunos()\n",
        "escola.addAluno(Aluno(\"Luiz\", 5))\n",
        "escola.addAluno(Aluno(\"Ze\", 7))\n",
        "escola.addAluno(Aluno(\"Mane\", 3))\n",
        "escola.addAluno(Aluno(\"Maria\", 2))\n",
        "escola.addAluno(Aluno(\"Joao\", 1))\n",
        "escola.imprimeLista()\n",
        "print('-------')\n",
        "media = escola.ordenaCalculaMedia()\n",
        "escola.imprimeLista()\n",
        "print('-------')\n",
        "menor = escola.getAluno(0).nota\n",
        "maior = escola.getAluno(-1).nota\n",
        "print(\"MEDIA=\" , media , \" MENOR=\",menor,\" MAIOR=\",maior)\n"
      ],
      "execution_count": 135,
      "outputs": [
        {
          "output_type": "stream",
          "text": [
            "Luiz : 5\n",
            "Ze : 7\n",
            "Mane : 3\n",
            "Maria : 2\n",
            "Joao : 1\n",
            "-------\n",
            "Joao : 1\n",
            "Ze : 7\n",
            "Luiz : 5\n",
            "Mane : 3\n",
            "Maria : 2\n",
            "-------\n",
            "MEDIA= 1.0  MENOR= 1  MAIOR= 2\n"
          ],
          "name": "stdout"
        }
      ]
    },
    {
      "cell_type": "markdown",
      "metadata": {
        "id": "Vmh6a9Dvm9qL",
        "colab_type": "text"
      },
      "source": [
        "**Ex1.b - Festa**"
      ]
    },
    {
      "cell_type": "code",
      "metadata": {
        "id": "O55wbJyenBRG",
        "colab_type": "code",
        "outputId": "64c9214b-2810-4c62-a3c1-4404156c2636",
        "colab": {
          "base_uri": "https://localhost:8080/",
          "height": 138
        }
      },
      "source": [
        "class CalculadoraFesta:\n",
        "  def __init__(self,  numPessoas ,bebSaudavel,decDiferenciada):\n",
        "    self.__numeroPessoas = numPessoas\n",
        "    self.__bebidaSaudavel = bebSaudavel\n",
        "    self.__decoracaoDiferenciada =decDiferenciada\n",
        "  \n",
        "  def __calcularValorComidas(self):\n",
        "    return self.__numeroPessoas * 25\n",
        "  \n",
        "  def __calcularValorBebidas(self):\n",
        "    if (self.__bebidaSaudavel):\n",
        "      return self.__numeroPessoas * 5\n",
        "    else:\n",
        "      return self.__numeroPessoas * 20\n",
        "  \n",
        "  def __calcularValorDecoracao(self):\n",
        "    if (self.__decoracaoDiferenciada):\n",
        "      return 50 + self.__numeroPessoas * 15\n",
        "    else:\n",
        "      return 30 + self.__numeroPessoas * 7.5\n",
        "\n",
        "  def __calcularDescontoPercentual(self):\n",
        "    if (self.__bebidaSaudavel):\n",
        "      return 5\n",
        "    else:\n",
        "      return 0\n",
        "\n",
        "  def calcularTotalFesta(self):\n",
        "    valorFesta=  self.__calcularValorComidas() + self.__calcularValorBebidas()+ self.__calcularValorDecoracao()\n",
        "    valorFesta-= valorFesta * self.__calcularDescontoPercentual() / 100\n",
        "    return valorFesta\n",
        "    \n",
        "print(\"Informe a quantidade de pessoas (a $25/p referente a Comida)\")\n",
        "numPess =  int(input())\n",
        "print(\"Gostaria da opcao de bebida saudavel? (S = $5/p c/ 5% desconto | N = $20/p)\")\n",
        "digitado = input()\n",
        "saudavel = False\n",
        "if ('S' == digitado):\n",
        "  saudavel = True\n",
        "print(\"Gostaria da decoracao diferenciada? (S = $15/p + $50 | N = $7.5/p + $30 )\")\n",
        "digitado = input()\n",
        "decDiff = False\n",
        "if ('S'== digitado): \n",
        "  decDiff = True\n",
        "calc = CalculadoraFesta(numPess, saudavel, decDiff)\n",
        "total = calc.calcularTotalFesta()\n",
        "print(\"Total da Festa: $\",total )\n",
        "  "
      ],
      "execution_count": 0,
      "outputs": [
        {
          "output_type": "stream",
          "text": [
            "Informe a quantidade de pessoas (a $25/p referente a Comida)\n",
            "11\n",
            "Gostaria da opcao de bebida saudavel? (S = $5/p c/ 5% desconto | N = $20/p)\n",
            "S\n",
            "Gostaria da decoracao diferenciada? (S = $15/p + $50 | N = $7.5/p + $30 )\n",
            "\n",
            "Total da Festa: $ 420.375\n"
          ],
          "name": "stdout"
        }
      ]
    },
    {
      "cell_type": "markdown",
      "metadata": {
        "id": "1LiCSBnU9xlu",
        "colab_type": "text"
      },
      "source": [
        "**Ex2.o Figuras (Heranca)**"
      ]
    },
    {
      "cell_type": "code",
      "metadata": {
        "id": "jAxZ2na89x2J",
        "colab_type": "code",
        "outputId": "61a7dd48-d784-498e-f23e-e12c25f65e93",
        "colab": {
          "base_uri": "https://localhost:8080/",
          "height": 69
        }
      },
      "source": [
        "class Figura:\n",
        "  def area(self):\n",
        "    return 0\n",
        "\n",
        "class Triangulo(Figura):\n",
        "  def __init__(self, base, altura):\n",
        "    self.__base=base\n",
        "    self.__altura=altura\n",
        "\n",
        "  def area(self):\n",
        "    return ((self.__base * self.__altura)/2)\n",
        "\n",
        "class Quadrado(Figura):\n",
        "  def __init__(self, lado):\n",
        "    self.__lado=lado\n",
        "\n",
        "  def area(self):\n",
        "    return self.__lado * self.__lado\n",
        "\n",
        "class Circulo(Figura):\n",
        "  def __init__(self, raio):\n",
        "    self.__raio = raio\n",
        "  \n",
        "  def area(self):\n",
        "    return 3.14 * self.__raio * self.__raio\n",
        "    \n",
        "# f - Figura\n",
        "f=  Quadrado(2)\n",
        "print(f.area())\n",
        "f =  Triangulo(2,2)\n",
        "print(f.area())\n",
        "f =  Circulo(2)\n",
        "print(f.area())\n",
        "\n"
      ],
      "execution_count": 0,
      "outputs": [
        {
          "output_type": "stream",
          "text": [
            "4\n",
            "2.0\n",
            "12.56\n"
          ],
          "name": "stdout"
        }
      ]
    },
    {
      "cell_type": "markdown",
      "metadata": {
        "id": "iPBZWujXBr-A",
        "colab_type": "text"
      },
      "source": [
        "**Ex2 Heranca**"
      ]
    },
    {
      "cell_type": "code",
      "metadata": {
        "id": "jvDRso8_B1YN",
        "colab_type": "code",
        "outputId": "4775e99b-2d9c-4f5c-d1f5-a37ababf1a41",
        "colab": {
          "base_uri": "https://localhost:8080/",
          "height": 238
        }
      },
      "source": [
        "class CalculadoraFesta:\n",
        "  def __init__(self , numeroPessoas, decoracaoDiferenciada):\n",
        "     self.__numeroPessoas=numeroPessoas\n",
        "     self.__decoracaoDiferenciada=decoracaoDiferenciada\n",
        "  \n",
        "  @property\n",
        "  def numeroPessoas(self):\n",
        "    return self.__numeroPessoas\n",
        "\n",
        "  def calcularValorComidas(self):\n",
        "    return self.__numeroPessoas * 25\n",
        "\n",
        "  def calcularValorDecoracao(self):\n",
        "    if (self.__decoracaoDiferenciada):\n",
        "      return 50 + self.__numeroPessoas * 15\n",
        "    else:\n",
        "      return 30 + self.__numeroPessoas * 7.5\n",
        "\n",
        "  def calcularTotalFesta(self):\n",
        "    return 0\n",
        "\n",
        "class EscritaEmBolo:\n",
        "  def __init__(self,tamanhoBolo,  textoBolo):\n",
        "    self.__tamanhoBolo=tamanhoBolo\n",
        "    self.__textoBolo=textoBolo\n",
        "\n",
        "  @property\n",
        "  def tamanhoBolo(self):\n",
        "    return self.__tamanhoBolo\n",
        "\n",
        "  def setTamanhoBolo(self, tamanhoBolo):\n",
        "    if (tamanhoBolo != 8 and tamanhoBolo != 16):\n",
        "      print(\"Desculpe, mas nao trabalhamos como bolos de \" , tamanhoBolo , \" cm (apenas 8 ou 16 cm) \" )\n",
        "    else:\n",
        "      self.__tamanhoBolo = tamanhoBolo\n",
        "  \n",
        "  def setTextoBolo(self, textoBolo):\n",
        "    if(tamanhoBolo == 8 and len(textoBolo) > 0 and len(textoBolo) <= 16):\n",
        "      self.__textoBolo = textoBolo\n",
        "    elif (tamanhoBolo == 16 and len(textoBolo) > 0 and len(textoBolo) <= 40):\n",
        "      self.__textoBolo = textoBolo\n",
        "    else:\n",
        "      print(\"Desculpe, mas nao é possivel escrever '\" , textoBolo , \"' ( \" + textoBolo.Length , \" letras) em um bolo de \" , tamanhoBolo + \" cm\")\n",
        "  \n",
        "  def calcularPrecoEscrita(self):\n",
        "    return 0.25 * len(self.__textoBolo)\n",
        "    \n",
        "#bolo =  EscritaEmBolo(8, \"alo mamae!\")\n",
        "#print(\"> \" + bolo.textoBolo)\n",
        "\n",
        "class CalculadoraFestaAniversario(CalculadoraFesta):\n",
        "  def __init__(self,numPessoas,  decDiferenciada,  textoBolo):\n",
        "    super().__init__(numPessoas,  decDiferenciada)\n",
        "    if (numPessoas <= 4):\n",
        "      self.__tamanhoBolo = 8\n",
        "    else:\n",
        "      self.__tamanhoBolo = 16\n",
        "    self.__escritaEmBolo =  EscritaEmBolo(self.__tamanhoBolo, textoBolo)\n",
        "  \n",
        "  def calcularPrecoBolo(self):\n",
        "    precoBolo = 0\n",
        "    if (self.__escritaEmBolo.tamanhoBolo == 8):\n",
        "      precoBolo= 40\n",
        "    elif (self.__escritaEmBolo.tamanhoBolo == 16):\n",
        "      precoBolo= 75\n",
        "    return precoBolo\n",
        "    \n",
        "  def calcularTotalFesta(self):\n",
        "     valorFesta = self.calcularValorComidas() + self.calcularValorDecoracao()\n",
        "     valorFesta += self.calcularPrecoBolo()+ self.__escritaEmBolo.calcularPrecoEscrita()\n",
        "     return valorFesta\n",
        "\n",
        "class CalculadoraFestaCoquetel(CalculadoraFesta):\n",
        "  def __init__(self, numPessoas,decDiferenciada,bebidaSaudavel):\n",
        "    super().__init__(numPessoas,  decDiferenciada)\n",
        "    self.__bebidaSaudavel=bebidaSaudavel\n",
        "  \n",
        "  def calcularValorBebidas(self):\n",
        "    if (self.__bebidaSaudavel):\n",
        "      return super().numeroPessoas * 5\n",
        "    else:\n",
        "      return super().numeroPessoas * 20\n",
        "      \n",
        "  def calcularDescontoPercentual(self):\n",
        "    if (self.__bebidaSaudavel):\n",
        "      return 5\n",
        "    else:\n",
        "      return 0\n",
        "  \n",
        "  def calcularTotalFesta(self):\n",
        "    valorFesta = self.calcularValorComidas() + self.calcularValorBebidas() + self.calcularValorDecoracao()\n",
        "    valorFesta -= valorFesta * self.calcularDescontoPercentual() / 100\n",
        "    return valorFesta\n",
        "\n",
        "\n",
        "print(\"Informe o tipo de festa (C)oquetel ou (A)niversario\")\n",
        "digitadoTipoFesta = input()\n",
        "print(\"\\nInforme a quantidade de pessoas (a $25/p referente a Comida)\")\n",
        "numPess = int(input())\n",
        "print(\"\\nGostaria da decoracao diferenciada? (S = $15/p + $50 | N = $7.5/p + $30 )\")\n",
        "digitado = input()\n",
        "decDiff = False\n",
        "if ('S'==digitado):\n",
        "  decDiff = True\n",
        "if ('C'==digitadoTipoFesta):\n",
        "  print(\"\\nGostaria da opcao de bebida saudavel? (S = $5/p c/ 5% desconto | N = $20/p)\")\n",
        "  digitado = input()\n",
        "  saudavel = False\n",
        "  if ('S'==digitado):\n",
        "    saudavel = True\n",
        "  calc =  CalculadoraFestaCoquetel(numPess, decDiff,saudavel)\n",
        "elif ('A'==digitadoTipoFesta):\n",
        "  print(\"\\nInforme o texto do bolo\")\n",
        "  texto = input()\n",
        "  calc =  CalculadoraFestaAniversario(numPess, decDiff, texto)\n",
        "\n",
        "total = calc.calcularTotalFesta()\n",
        "print(\"\\n Total da Festa: $\" , total)\n",
        " \n"
      ],
      "execution_count": 136,
      "outputs": [
        {
          "output_type": "stream",
          "text": [
            "Informe o tipo de festa (C)oquetel ou (A)niversario\n",
            "C\n",
            "\n",
            "Informe a quantidade de pessoas (a $25/p referente a Comida)\n",
            "11\n",
            "\n",
            "Gostaria da decoracao diferenciada? (S = $15/p + $50 | N = $7.5/p + $30 )\n",
            "S\n",
            "\n",
            "Gostaria da opcao de bebida saudavel? (S = $5/p c/ 5% desconto | N = $20/p)\n",
            "S\n",
            "\n",
            " Total da Festa: $ 517.75\n"
          ],
          "name": "stdout"
        }
      ]
    },
    {
      "cell_type": "markdown",
      "metadata": {
        "id": "RBUZloNALIMU",
        "colab_type": "text"
      },
      "source": [
        "**Ex3 Modularidade/Camadas** "
      ]
    },
    {
      "cell_type": "code",
      "metadata": {
        "id": "XEFq3_jqLITC",
        "colab_type": "code",
        "colab": {}
      },
      "source": [
        "#N/A"
      ],
      "execution_count": 0,
      "outputs": []
    },
    {
      "cell_type": "markdown",
      "metadata": {
        "id": "ifRryNYlgxX4",
        "colab_type": "text"
      },
      "source": [
        "**Ex4 Excecoes**"
      ]
    },
    {
      "cell_type": "code",
      "metadata": {
        "id": "rG9Pcil-gz2Y",
        "colab_type": "code",
        "outputId": "203ad9a0-e82f-499b-ef19-e1b48caae78d",
        "colab": {
          "base_uri": "https://localhost:8080/",
          "height": 34
        }
      },
      "source": [
        "class JaMatriculadoException(Exception):\n",
        "  def __ini__(nome):\n",
        "    super().__ini__()\n",
        "    self.__nome=nome\n",
        "  \n",
        "  @property\n",
        "  def nome(self):\n",
        "    return self.__nome\n",
        "\n",
        "class Aluno:\n",
        "  def __init__(self,nome,nota):\n",
        "    self.__nome=nome\n",
        "    self.__nota=nota\n",
        "  @property\n",
        "  def nome(self):\n",
        "    return self.__nome\n",
        "  @nome.setter\n",
        "  def nome(self,nome):\n",
        "    self.__nome=nome\n",
        "\n",
        "  @property\n",
        "  def nota(self):\n",
        "    return self.__nota\n",
        "  @nota.setter\n",
        "  def nota(self,nota):\n",
        "    sefl.__nota=nota\n",
        "\n",
        "class CadastroAlunos:\n",
        "  def __init__(self):\n",
        "    self.__alunos = []\n",
        "  \n",
        "  def addAluno(self, aluno):\n",
        "    if(not self.alunoJaMatriculado(aluno.nome) ):\n",
        "      self.__alunos.append(aluno)\n",
        "    else:\n",
        "      raise JaMatriculadoException(aluno.nome) \n",
        "\n",
        "  def getAluno(self, posicao):\n",
        "    return self.__alunos[posicao]\n",
        "  \n",
        "  def alunoJaMatriculado(self, nome):\n",
        "    tem_o_aluno= False\n",
        "    for aluno in self.__alunos:\n",
        "      if (aluno.nome == nome):\n",
        "        tem_o_aluno = True;\n",
        "    return tem_o_aluno\n",
        "\n",
        "  def ordenaCalculaMedia(self):\n",
        "    media = 0\n",
        "    for i in range(0,len(self.__alunos),1):\n",
        "      media += self.__alunos[i].nota\n",
        "      for j in range(i+1,len(self.__alunos),1): \n",
        "        if (self.__alunos[i].nota > self.__alunos[j].nota):\n",
        "          swap = self.__alunos[i]\n",
        "          self.__alunos[i] = self.__alunos[j]\n",
        "          self.__alunos[j] = swap;\n",
        "      media /= len(self.__alunos)\n",
        "      return media  \n",
        "      \n",
        "  def imprimeLista(self):\n",
        "    for i in range(0,len(self.__alunos),1):\n",
        "      print(self.__alunos[i].nome , \":\" , self.__alunos[i].nota)\n",
        "\n",
        "escola = CadastroAlunos()\n",
        "try:\n",
        "  escola.addAluno(Aluno(\"Luiz\", 5))\n",
        "  escola.addAluno(Aluno(\"Luiz\", 7))\n",
        "  escola.addAluno(Aluno(\"Mane\", 3))\n",
        "  escola.addAluno(Aluno(\"Maria\", 2))\n",
        "  escola.addAluno(Aluno(\"Joao\", 1))\n",
        "\n",
        "  escola.imprimeLista()\n",
        "  print('-------')\n",
        "  media = escola.ordenaCalculaMedia()\n",
        "  escola.imprimeLista()\n",
        "  print('-------')\n",
        "  menor = escola.getAluno(0).nota\n",
        "  maior = escola.getAluno(-1).nota\n",
        "  print(\"MEDIA=\" , media , \" MENOR=\",menor,\" MAIOR=\",maior)\n",
        "except JaMatriculadoException :\n",
        "  print('Ja Matriculado' , JaMatriculadoException.nome )\n",
        "\n"
      ],
      "execution_count": 1,
      "outputs": [
        {
          "output_type": "stream",
          "text": [
            "Ja Matriculado <property object at 0x7fecb67e4cc8>\n"
          ],
          "name": "stdout"
        }
      ]
    },
    {
      "cell_type": "markdown",
      "metadata": {
        "id": "DRec2t-4l7hi",
        "colab_type": "text"
      },
      "source": [
        " **Ex5 Colecoes**\n",
        "\n"
      ]
    },
    {
      "cell_type": "code",
      "metadata": {
        "id": "HJqWQVAdl7ol",
        "colab_type": "code",
        "outputId": "535cda4b-d8c5-4648-a9c0-45ed229bbd05",
        "colab": {
          "base_uri": "https://localhost:8080/",
          "height": 238
        }
      },
      "source": [
        "class JaMatriculadoException(Exception):\n",
        "  def __ini__(nome):\n",
        "    super().__ini__()\n",
        "    self.__nome=nome\n",
        "  \n",
        "  @property\n",
        "  def nome(self):\n",
        "    return self.__nome\n",
        "\n",
        "class Aluno:\n",
        "  def __init__(self,nome,nota):\n",
        "    self.__nome=nome\n",
        "    self.__nota=nota\n",
        "  @property\n",
        "  def nome(self):\n",
        "    return self.__nome\n",
        "  @nome.setter\n",
        "  def nome(self,nome):\n",
        "    self.__nome=nome\n",
        "\n",
        "  @property\n",
        "  def nota(self):\n",
        "    return self.__nota\n",
        "  @nota.setter\n",
        "  def nota(self,nota):\n",
        "    sefl.__nota=nota\n",
        "\n",
        "class CadastroAlunos:\n",
        "  def __init__(self):\n",
        "    self.__alunos = []\n",
        "  \n",
        "  def __getitem__(self, item):\n",
        "    return self.__alunos[item]\n",
        "  \n",
        "  def __len__(self):\n",
        "    return len(self.__alunos)\n",
        "  \n",
        "  def addAluno(self, aluno):\n",
        "    if(not self.alunoJaMatriculado(aluno.nome) ):\n",
        "      self.__alunos.append(aluno)\n",
        "    else:\n",
        "      raise JaMatriculadoException(aluno.nome) \n",
        "\n",
        "  def getAluno(self, posicao):\n",
        "    return self.__alunos[posicao]\n",
        "  \n",
        "  def alunoJaMatriculado(self, nome):\n",
        "    tem_o_aluno= False\n",
        "    for aluno in self.__alunos:\n",
        "      if (aluno.nome == nome):\n",
        "        tem_o_aluno = True;\n",
        "    return tem_o_aluno\n",
        "\n",
        "  def ordenaCalculaMedia(self):\n",
        "    media = 0\n",
        "    for i in range(0,len(self.__alunos),1):\n",
        "      media += self.__alunos[i].nota\n",
        "      for j in range(i+1,len(self.__alunos),1): \n",
        "        if (self.__alunos[i].nota > self.__alunos[j].nota):\n",
        "          swap = self.__alunos[i]\n",
        "          self.__alunos[i] = self.__alunos[j]\n",
        "          self.__alunos[j] = swap;\n",
        "      media /= len(self.__alunos)\n",
        "      return media  \n",
        "      \n",
        "  def imprimeLista(self):\n",
        "    for i in range(0,len(self.__alunos),1):\n",
        "      print(self.__alunos[i].nome , \":\" , self.__alunos[i].nota)\n",
        "\n",
        "escola = CadastroAlunos()\n",
        "try:\n",
        "  luiz = Aluno(\"Luiz\", 5)\n",
        "  escola.addAluno(luiz)\n",
        "  escola.addAluno(Aluno(\"Ze\", 7))\n",
        "  escola.addAluno(Aluno(\"Mane\", 3))\n",
        "  escola.addAluno(Aluno(\"Maria\", 2))\n",
        "  escola.addAluno(Aluno(\"Joao\", 1))\n",
        "\n",
        "  escola.imprimeLista()\n",
        "  print('-------')\n",
        "  media = escola.ordenaCalculaMedia()\n",
        "\n",
        "  for a in escola:\n",
        "    print(a.nome, ' = ', a.nota)\n",
        "  print('-------')\n",
        "  menor = escola.getAluno(0).nota\n",
        "  maior = escola.getAluno(-1).nota\n",
        "  print(\"MEDIA=\" , media , \" MENOR=\",menor,\" MAIOR=\",maior)\n",
        "except JaMatriculadoException :\n",
        "  print('Ja Matriculado' , JaMatriculadoException.nome )\n",
        "\n"
      ],
      "execution_count": 3,
      "outputs": [
        {
          "output_type": "stream",
          "text": [
            "Luiz : 5\n",
            "Ze : 7\n",
            "Mane : 3\n",
            "Maria : 2\n",
            "Joao : 1\n",
            "-------\n",
            "Joao  =  1\n",
            "Ze  =  7\n",
            "Luiz  =  5\n",
            "Mane  =  3\n",
            "Maria  =  2\n",
            "-------\n",
            "MEDIA= 1.0  MENOR= 1  MAIOR= 2\n"
          ],
          "name": "stdout"
        }
      ]
    }
  ]
}